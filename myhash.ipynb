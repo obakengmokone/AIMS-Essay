{
  "nbformat": 4,
  "nbformat_minor": 0,
  "metadata": {
    "colab": {
      "name": "myhash.ipynb",
      "provenance": [],
      "authorship_tag": "ABX9TyOK/67UelRg2qx4Cqb8swmc"
    },
    "kernelspec": {
      "name": "python3",
      "display_name": "Python 3"
    },
    "language_info": {
      "name": "python"
    }
  },
  "cells": [
    {
      "cell_type": "code",
      "source": [
        "! pip install bitstring"
      ],
      "metadata": {
        "colab": {
          "base_uri": "https://localhost:8080/"
        },
        "id": "uFIiOo0l3jMB",
        "outputId": "f90b2e3c-5bd5-44b2-b194-3005c65441de"
      },
      "execution_count": null,
      "outputs": [
        {
          "output_type": "stream",
          "name": "stdout",
          "text": [
            "Looking in indexes: https://pypi.org/simple, https://us-python.pkg.dev/colab-wheels/public/simple/\n",
            "Collecting bitstring\n",
            "  Downloading bitstring-3.1.9-py3-none-any.whl (38 kB)\n",
            "Installing collected packages: bitstring\n",
            "Successfully installed bitstring-3.1.9\n"
          ]
        }
      ]
    },
    {
      "cell_type": "code",
      "source": [
        "from bitstring import BitArray"
      ],
      "metadata": {
        "id": "8oAWwhlL3oLX"
      },
      "execution_count": null,
      "outputs": []
    },
    {
      "cell_type": "code",
      "source": [
        "def ch1(b):\n",
        "  '''\n",
        "  change 1: shift bits to the left once\n",
        "  slice the string from shift length to end\n",
        "  then concatinate the slice with the slice of the remaining bits. \n",
        "  '''\n",
        "  s = b[1:] + b[0: 1]\n",
        "  return s"
      ],
      "metadata": {
        "id": "lR0EJ2BIlU_K"
      },
      "execution_count": null,
      "outputs": []
    },
    {
      "cell_type": "code",
      "source": [
        "def flip(b):\n",
        "  '''\n",
        "  flip: flips the last bit of a 16-bit bit string\n",
        "  It gives xxxxxxxxxxxxxxx1 = xxxxxxxxxxxxxxx0 and vice-versa\n",
        "  '''\n",
        "  s = b[:15] + str(int(not(int(b[-1]))))\n",
        "  return s"
      ],
      "metadata": {
        "id": "PbPAhUIm6Kf7"
      },
      "execution_count": null,
      "outputs": []
    },
    {
      "cell_type": "code",
      "source": [
        "def ch2(b):\n",
        "  '''\n",
        "  change 2:  \n",
        "  '''\n",
        "  b = flip(b)\n",
        "  a = '0001010100110001'\n",
        "  s = str()\n",
        "  for i in range(16):\n",
        "    if a[i] == b[i]:\n",
        "      s = s + '0'\n",
        "    else:\n",
        "      s = s + '1'\n",
        "  return s"
      ],
      "metadata": {
        "id": "MDweL-Rv7v7d"
      },
      "execution_count": null,
      "outputs": []
    },
    {
      "cell_type": "code",
      "execution_count": null,
      "metadata": {
        "id": "y56h7urwkbM-"
      },
      "outputs": [],
      "source": [
        "def myhash(s):\n",
        "  '''\n",
        "  input bit string of length 32\n",
        "  output bit string of length 16; hash value\n",
        "  '''\n",
        "  b_1 = s[:16]\n",
        "  b_2 = s[16:]\n",
        "\n",
        "  p = 13099\n",
        "  t = ch1(b_2)+ch2(b_1)\n",
        "  t = BitArray(bin='0b'+t)\n",
        "  r = t.int % p\n",
        "  c = 16 - len(format(r, \"b\"))\n",
        "  return c*'0'+format(r, \"b\")\n"
      ]
    },
    {
      "cell_type": "code",
      "source": [
        "myhash('01001010100100100100101010010010')"
      ],
      "metadata": {
        "colab": {
          "base_uri": "https://localhost:8080/",
          "height": 35
        },
        "id": "L8BWFrwCFYtq",
        "outputId": "c7f0040e-848a-477d-be91-1795488ff97b"
      },
      "execution_count": null,
      "outputs": [
        {
          "output_type": "execute_result",
          "data": {
            "text/plain": [
              "'0000110010000010'"
            ],
            "application/vnd.google.colaboratory.intrinsic+json": {
              "type": "string"
            }
          },
          "metadata": {},
          "execution_count": 7
        }
      ]
    }
  ]
}